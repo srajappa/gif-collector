{
 "cells": [
  {
   "cell_type": "markdown",
   "metadata": {},
   "source": [
    "# Playwright Screencast Recorder\n",
    "\n",
    "This notebook demonstrates how to create automated screencasts using Playwright."
   ]
  },
  {
   "cell_type": "code",
   "execution_count": 20,
   "metadata": {},
   "outputs": [],
   "source": [
    "# Import the screencast recorder\n",
    "import sys\n",
    "sys.path.append('/app')\n",
    "\n",
    "from src.screencast_recorder import (\n",
    "    ScreencastRecorder,\n",
    "    YouTubeScreencast,\n",
    "    WebsiteActionRecorder,\n",
    "    EcommerceScreencast\n",
    ")"
   ]
  },
  {
   "cell_type": "code",
   "execution_count": 28,
   "metadata": {},
   "outputs": [
    {
     "name": "stdout",
     "output_type": "stream",
     "text": [
      "Available functions:\n",
      "  - Browser\n",
      "  - BrowserContext\n",
      "  - Dict\n",
      "  - EcommerceScreencast\n",
      "  - List\n",
      "  - Optional\n",
      "  - Page\n",
      "  - Path\n",
      "  - ScreencastRecorder\n",
      "  - Tuple\n",
      "  - WebsiteActionRecorder\n",
      "  - YouTubeScreencast\n",
      "  - async_playwright\n",
      "  - asyncio\n",
      "  - datetime\n",
      "  - demo_ecommerce\n",
      "  - demo_google_search\n",
      "  - demo_youtube_trending\n",
      "  - logger\n",
      "  - logging\n",
      "  - os\n",
      "  - quick_screencast\n"
     ]
    }
   ],
   "source": [
    "import src.screencast_recorder as sr\n",
    "print(\"Available functions:\")\n",
    "for name in dir(sr):\n",
    "    if not name.startswith('_'):\n",
    "        print(f\"  - {name}\")"
   ]
  },
  {
   "cell_type": "code",
   "execution_count": 25,
   "metadata": {},
   "outputs": [
    {
     "ename": "ImportError",
     "evalue": "cannot import name 'test_basic_setup' from 'src.screencast_recorder' (/app/src/screencast_recorder.py)",
     "output_type": "error",
     "traceback": [
      "\u001b[0;31m---------------------------------------------------------------------------\u001b[0m",
      "\u001b[0;31mImportError\u001b[0m                               Traceback (most recent call last)",
      "Cell \u001b[0;32mIn[25], line 3\u001b[0m\n\u001b[1;32m      1\u001b[0m \u001b[38;5;66;03m# Test 1: Basic setup without video recording\u001b[39;00m\n\u001b[1;32m      2\u001b[0m \u001b[38;5;28;01mimport\u001b[39;00m\u001b[38;5;250m \u001b[39m\u001b[38;5;21;01masyncio\u001b[39;00m\n\u001b[0;32m----> 3\u001b[0m \u001b[38;5;28;01mfrom\u001b[39;00m\u001b[38;5;250m \u001b[39m\u001b[38;5;21;01msrc\u001b[39;00m\u001b[38;5;21;01m.\u001b[39;00m\u001b[38;5;21;01mscreencast_recorder\u001b[39;00m\u001b[38;5;250m \u001b[39m\u001b[38;5;28;01mimport\u001b[39;00m test_basic_setup\n\u001b[1;32m      4\u001b[0m \u001b[38;5;28;01mawait\u001b[39;00m test_basic_setup()\n\u001b[1;32m      6\u001b[0m \u001b[38;5;66;03m# Test 2: Check environment variables\u001b[39;00m\n",
      "\u001b[0;31mImportError\u001b[0m: cannot import name 'test_basic_setup' from 'src.screencast_recorder' (/app/src/screencast_recorder.py)"
     ]
    }
   ],
   "source": [
    "# Test 1: Basic setup without video recording\n",
    "import asyncio\n",
    "from src.screencast_recorder import test_basic_setup\n",
    "await test_basic_setup()\n",
    "\n",
    "# Test 2: Check environment variables\n",
    "import os\n",
    "print(\"Viewport Width:\", os.getenv('DEFAULT_VIEWPORT_WIDTH', 'Not set'))\n",
    "print(\"Viewport Height:\", os.getenv('DEFAULT_VIEWPORT_HEIGHT', 'Not set'))\n",
    "\n",
    "# Test 3: Manual recorder with explicit viewport\n",
    "from src.screencast_recorder import ScreencastRecorder\n",
    "recorder = ScreencastRecorder(viewport_size=(1280, 720))\n",
    "print(\"Recorder viewport:\", recorder.viewport_size)"
   ]
  },
  {
   "cell_type": "code",
   "execution_count": 26,
   "metadata": {},
   "outputs": [
    {
     "name": "stderr",
     "output_type": "stream",
     "text": [
      "2025-07-07 23:18:54,257 - src.screencast_recorder - INFO - Initialized ScreencastRecorder with output: output/screencasts\n",
      "2025-07-07 23:18:54,259 - src.screencast_recorder - INFO - Setting up browser...\n",
      "2025-07-07 23:18:54,625 - src.screencast_recorder - ERROR - Failed to setup browser: recordVideo.size.width: expected number, got undefined\n",
      "2025-07-07 23:18:54,626 - src.screencast_recorder - INFO - Cleaning up browser resources...\n",
      "2025-07-07 23:18:54,693 - src.screencast_recorder - INFO - Cleaning up browser resources...\n"
     ]
    },
    {
     "ename": "Error",
     "evalue": "recordVideo.size.width: expected number, got undefined",
     "output_type": "error",
     "traceback": [
      "\u001b[0;31m---------------------------------------------------------------------------\u001b[0m",
      "\u001b[0;31mError\u001b[0m                                     Traceback (most recent call last)",
      "Cell \u001b[0;32mIn[26], line 11\u001b[0m\n\u001b[1;32m      8\u001b[0m         \u001b[38;5;28;01mawait\u001b[39;00m recorder\u001b[38;5;241m.\u001b[39mcleanup()\n\u001b[1;32m     10\u001b[0m \u001b[38;5;66;03m# Run the demo\u001b[39;00m\n\u001b[0;32m---> 11\u001b[0m \u001b[38;5;28;01mawait\u001b[39;00m youtube_demo()\n",
      "Cell \u001b[0;32mIn[26], line 5\u001b[0m, in \u001b[0;36myoutube_demo\u001b[0;34m()\u001b[0m\n\u001b[1;32m      3\u001b[0m recorder \u001b[38;5;241m=\u001b[39m YouTubeScreencast()\n\u001b[1;32m      4\u001b[0m \u001b[38;5;28;01mtry\u001b[39;00m:\n\u001b[0;32m----> 5\u001b[0m     \u001b[38;5;28;01mawait\u001b[39;00m recorder\u001b[38;5;241m.\u001b[39msetup_browser(headless\u001b[38;5;241m=\u001b[39m\u001b[38;5;28;01mFalse\u001b[39;00m, recording_name\u001b[38;5;241m=\u001b[39m\u001b[38;5;124m\"\u001b[39m\u001b[38;5;124myoutube_demo\u001b[39m\u001b[38;5;124m\"\u001b[39m)\n\u001b[1;32m      6\u001b[0m     \u001b[38;5;28;01mawait\u001b[39;00m recorder\u001b[38;5;241m.\u001b[39mvisit_trending_section()\n\u001b[1;32m      7\u001b[0m \u001b[38;5;28;01mfinally\u001b[39;00m:\n",
      "File \u001b[0;32m/app/src/screencast_recorder.py:87\u001b[0m, in \u001b[0;36mScreencastRecorder.setup_browser\u001b[0;34m(self, headless, slow_mo, browser_type, recording_name)\u001b[0m\n\u001b[1;32m     84\u001b[0m \u001b[38;5;28mself\u001b[39m\u001b[38;5;241m.\u001b[39mrecording_path \u001b[38;5;241m=\u001b[39m \u001b[38;5;28mself\u001b[39m\u001b[38;5;241m.\u001b[39moutput_dir \u001b[38;5;241m/\u001b[39m \u001b[38;5;28mself\u001b[39m\u001b[38;5;241m.\u001b[39mrecording_name\n\u001b[1;32m     86\u001b[0m \u001b[38;5;66;03m# Create browser context with video recording\u001b[39;00m\n\u001b[0;32m---> 87\u001b[0m \u001b[38;5;28mself\u001b[39m\u001b[38;5;241m.\u001b[39mcontext \u001b[38;5;241m=\u001b[39m \u001b[38;5;28;01mawait\u001b[39;00m \u001b[38;5;28mself\u001b[39m\u001b[38;5;241m.\u001b[39mbrowser\u001b[38;5;241m.\u001b[39mnew_context(\n\u001b[1;32m     88\u001b[0m     viewport\u001b[38;5;241m=\u001b[39m{\u001b[38;5;124m'\u001b[39m\u001b[38;5;124mwidth\u001b[39m\u001b[38;5;124m'\u001b[39m: \u001b[38;5;28mself\u001b[39m\u001b[38;5;241m.\u001b[39mviewport_size[\u001b[38;5;241m0\u001b[39m], \u001b[38;5;124m'\u001b[39m\u001b[38;5;124mheight\u001b[39m\u001b[38;5;124m'\u001b[39m: \u001b[38;5;28mself\u001b[39m\u001b[38;5;241m.\u001b[39mviewport_size[\u001b[38;5;241m1\u001b[39m]},\n\u001b[1;32m     89\u001b[0m     record_video_dir\u001b[38;5;241m=\u001b[39m\u001b[38;5;28mstr\u001b[39m(\u001b[38;5;28mself\u001b[39m\u001b[38;5;241m.\u001b[39mrecording_path),\n\u001b[1;32m     90\u001b[0m     record_video_size\u001b[38;5;241m=\u001b[39m\u001b[38;5;28mself\u001b[39m\u001b[38;5;241m.\u001b[39mviewport_size,\n\u001b[1;32m     91\u001b[0m     user_agent\u001b[38;5;241m=\u001b[39m\u001b[38;5;124m'\u001b[39m\u001b[38;5;124mMozilla/5.0 (Windows NT 10.0; Win64; x64) AppleWebKit/537.36 (KHTML, like Gecko) Chrome/91.0.4472.124 Safari/537.36\u001b[39m\u001b[38;5;124m'\u001b[39m\n\u001b[1;32m     92\u001b[0m )\n\u001b[1;32m     94\u001b[0m \u001b[38;5;66;03m# Create page\u001b[39;00m\n\u001b[1;32m     95\u001b[0m \u001b[38;5;28mself\u001b[39m\u001b[38;5;241m.\u001b[39mpage \u001b[38;5;241m=\u001b[39m \u001b[38;5;28;01mawait\u001b[39;00m \u001b[38;5;28mself\u001b[39m\u001b[38;5;241m.\u001b[39mcontext\u001b[38;5;241m.\u001b[39mnew_page()\n",
      "File \u001b[0;32m/usr/local/lib/python3.10/dist-packages/playwright/async_api/_generated.py:14234\u001b[0m, in \u001b[0;36mBrowser.new_context\u001b[0;34m(self, viewport, screen, no_viewport, ignore_https_errors, java_script_enabled, bypass_csp, user_agent, locale, timezone_id, geolocation, permissions, extra_http_headers, offline, http_credentials, device_scale_factor, is_mobile, has_touch, color_scheme, reduced_motion, forced_colors, accept_downloads, default_browser_type, proxy, record_har_path, record_har_omit_content, record_video_dir, record_video_size, storage_state, base_url, strict_selectors, service_workers, record_har_url_filter, record_har_mode, record_har_content)\u001b[0m\n\u001b[1;32m  14029\u001b[0m \u001b[38;5;28;01masync\u001b[39;00m \u001b[38;5;28;01mdef\u001b[39;00m\u001b[38;5;250m \u001b[39m\u001b[38;5;21mnew_context\u001b[39m(\n\u001b[1;32m  14030\u001b[0m     \u001b[38;5;28mself\u001b[39m,\n\u001b[1;32m  14031\u001b[0m     \u001b[38;5;241m*\u001b[39m,\n\u001b[0;32m   (...)\u001b[0m\n\u001b[1;32m  14073\u001b[0m     record_har_content: typing\u001b[38;5;241m.\u001b[39mOptional[Literal[\u001b[38;5;124m\"\u001b[39m\u001b[38;5;124mattach\u001b[39m\u001b[38;5;124m\"\u001b[39m, \u001b[38;5;124m\"\u001b[39m\u001b[38;5;124membed\u001b[39m\u001b[38;5;124m\"\u001b[39m, \u001b[38;5;124m\"\u001b[39m\u001b[38;5;124momit\u001b[39m\u001b[38;5;124m\"\u001b[39m]] \u001b[38;5;241m=\u001b[39m \u001b[38;5;28;01mNone\u001b[39;00m\n\u001b[1;32m  14074\u001b[0m ) \u001b[38;5;241m-\u001b[39m\u001b[38;5;241m>\u001b[39m \u001b[38;5;124m\"\u001b[39m\u001b[38;5;124mBrowserContext\u001b[39m\u001b[38;5;124m\"\u001b[39m:\n\u001b[1;32m  14075\u001b[0m \u001b[38;5;250m    \u001b[39m\u001b[38;5;124;03m\"\"\"Browser.new_context\u001b[39;00m\n\u001b[1;32m  14076\u001b[0m \n\u001b[1;32m  14077\u001b[0m \u001b[38;5;124;03m    Creates a new browser context. It won't share cookies/cache with other browser contexts.\u001b[39;00m\n\u001b[0;32m   (...)\u001b[0m\n\u001b[1;32m  14230\u001b[0m \u001b[38;5;124;03m    BrowserContext\u001b[39;00m\n\u001b[1;32m  14231\u001b[0m \u001b[38;5;124;03m    \"\"\"\u001b[39;00m\n\u001b[1;32m  14233\u001b[0m     \u001b[38;5;28;01mreturn\u001b[39;00m mapping\u001b[38;5;241m.\u001b[39mfrom_impl(\n\u001b[0;32m> 14234\u001b[0m         \u001b[38;5;28;01mawait\u001b[39;00m \u001b[38;5;28mself\u001b[39m\u001b[38;5;241m.\u001b[39m_impl_obj\u001b[38;5;241m.\u001b[39mnew_context(\n\u001b[1;32m  14235\u001b[0m             viewport\u001b[38;5;241m=\u001b[39mviewport,\n\u001b[1;32m  14236\u001b[0m             screen\u001b[38;5;241m=\u001b[39mscreen,\n\u001b[1;32m  14237\u001b[0m             noViewport\u001b[38;5;241m=\u001b[39mno_viewport,\n\u001b[1;32m  14238\u001b[0m             ignoreHTTPSErrors\u001b[38;5;241m=\u001b[39mignore_https_errors,\n\u001b[1;32m  14239\u001b[0m             javaScriptEnabled\u001b[38;5;241m=\u001b[39mjava_script_enabled,\n\u001b[1;32m  14240\u001b[0m             bypassCSP\u001b[38;5;241m=\u001b[39mbypass_csp,\n\u001b[1;32m  14241\u001b[0m             userAgent\u001b[38;5;241m=\u001b[39muser_agent,\n\u001b[1;32m  14242\u001b[0m             locale\u001b[38;5;241m=\u001b[39mlocale,\n\u001b[1;32m  14243\u001b[0m             timezoneId\u001b[38;5;241m=\u001b[39mtimezone_id,\n\u001b[1;32m  14244\u001b[0m             geolocation\u001b[38;5;241m=\u001b[39mgeolocation,\n\u001b[1;32m  14245\u001b[0m             permissions\u001b[38;5;241m=\u001b[39mmapping\u001b[38;5;241m.\u001b[39mto_impl(permissions),\n\u001b[1;32m  14246\u001b[0m             extraHTTPHeaders\u001b[38;5;241m=\u001b[39mmapping\u001b[38;5;241m.\u001b[39mto_impl(extra_http_headers),\n\u001b[1;32m  14247\u001b[0m             offline\u001b[38;5;241m=\u001b[39moffline,\n\u001b[1;32m  14248\u001b[0m             httpCredentials\u001b[38;5;241m=\u001b[39mhttp_credentials,\n\u001b[1;32m  14249\u001b[0m             deviceScaleFactor\u001b[38;5;241m=\u001b[39mdevice_scale_factor,\n\u001b[1;32m  14250\u001b[0m             isMobile\u001b[38;5;241m=\u001b[39mis_mobile,\n\u001b[1;32m  14251\u001b[0m             hasTouch\u001b[38;5;241m=\u001b[39mhas_touch,\n\u001b[1;32m  14252\u001b[0m             colorScheme\u001b[38;5;241m=\u001b[39mcolor_scheme,\n\u001b[1;32m  14253\u001b[0m             reducedMotion\u001b[38;5;241m=\u001b[39mreduced_motion,\n\u001b[1;32m  14254\u001b[0m             forcedColors\u001b[38;5;241m=\u001b[39mforced_colors,\n\u001b[1;32m  14255\u001b[0m             acceptDownloads\u001b[38;5;241m=\u001b[39maccept_downloads,\n\u001b[1;32m  14256\u001b[0m             defaultBrowserType\u001b[38;5;241m=\u001b[39mdefault_browser_type,\n\u001b[1;32m  14257\u001b[0m             proxy\u001b[38;5;241m=\u001b[39mproxy,\n\u001b[1;32m  14258\u001b[0m             recordHarPath\u001b[38;5;241m=\u001b[39mrecord_har_path,\n\u001b[1;32m  14259\u001b[0m             recordHarOmitContent\u001b[38;5;241m=\u001b[39mrecord_har_omit_content,\n\u001b[1;32m  14260\u001b[0m             recordVideoDir\u001b[38;5;241m=\u001b[39mrecord_video_dir,\n\u001b[1;32m  14261\u001b[0m             recordVideoSize\u001b[38;5;241m=\u001b[39mrecord_video_size,\n\u001b[1;32m  14262\u001b[0m             storageState\u001b[38;5;241m=\u001b[39mstorage_state,\n\u001b[1;32m  14263\u001b[0m             baseURL\u001b[38;5;241m=\u001b[39mbase_url,\n\u001b[1;32m  14264\u001b[0m             strictSelectors\u001b[38;5;241m=\u001b[39mstrict_selectors,\n\u001b[1;32m  14265\u001b[0m             serviceWorkers\u001b[38;5;241m=\u001b[39mservice_workers,\n\u001b[1;32m  14266\u001b[0m             recordHarUrlFilter\u001b[38;5;241m=\u001b[39mrecord_har_url_filter,\n\u001b[1;32m  14267\u001b[0m             recordHarMode\u001b[38;5;241m=\u001b[39mrecord_har_mode,\n\u001b[1;32m  14268\u001b[0m             recordHarContent\u001b[38;5;241m=\u001b[39mrecord_har_content,\n\u001b[1;32m  14269\u001b[0m         )\n\u001b[1;32m  14270\u001b[0m     )\n",
      "File \u001b[0;32m/usr/local/lib/python3.10/dist-packages/playwright/_impl/_browser.py:127\u001b[0m, in \u001b[0;36mBrowser.new_context\u001b[0;34m(self, viewport, screen, noViewport, ignoreHTTPSErrors, javaScriptEnabled, bypassCSP, userAgent, locale, timezoneId, geolocation, permissions, extraHTTPHeaders, offline, httpCredentials, deviceScaleFactor, isMobile, hasTouch, colorScheme, reducedMotion, forcedColors, acceptDownloads, defaultBrowserType, proxy, recordHarPath, recordHarOmitContent, recordVideoDir, recordVideoSize, storageState, baseURL, strictSelectors, serviceWorkers, recordHarUrlFilter, recordHarMode, recordHarContent)\u001b[0m\n\u001b[1;32m    124\u001b[0m params \u001b[38;5;241m=\u001b[39m locals_to_params(\u001b[38;5;28mlocals\u001b[39m())\n\u001b[1;32m    125\u001b[0m \u001b[38;5;28;01mawait\u001b[39;00m prepare_browser_context_params(params)\n\u001b[0;32m--> 127\u001b[0m channel \u001b[38;5;241m=\u001b[39m \u001b[38;5;28;01mawait\u001b[39;00m \u001b[38;5;28mself\u001b[39m\u001b[38;5;241m.\u001b[39m_channel\u001b[38;5;241m.\u001b[39msend(\u001b[38;5;124m\"\u001b[39m\u001b[38;5;124mnewContext\u001b[39m\u001b[38;5;124m\"\u001b[39m, params)\n\u001b[1;32m    128\u001b[0m context \u001b[38;5;241m=\u001b[39m cast(BrowserContext, from_channel(channel))\n\u001b[1;32m    129\u001b[0m \u001b[38;5;28mself\u001b[39m\u001b[38;5;241m.\u001b[39m_browser_type\u001b[38;5;241m.\u001b[39m_did_create_context(context, params, {})\n",
      "File \u001b[0;32m/usr/local/lib/python3.10/dist-packages/playwright/_impl/_connection.py:62\u001b[0m, in \u001b[0;36mChannel.send\u001b[0;34m(self, method, params)\u001b[0m\n\u001b[1;32m     61\u001b[0m \u001b[38;5;28;01masync\u001b[39;00m \u001b[38;5;28;01mdef\u001b[39;00m\u001b[38;5;250m \u001b[39m\u001b[38;5;21msend\u001b[39m(\u001b[38;5;28mself\u001b[39m, method: \u001b[38;5;28mstr\u001b[39m, params: Dict \u001b[38;5;241m=\u001b[39m \u001b[38;5;28;01mNone\u001b[39;00m) \u001b[38;5;241m-\u001b[39m\u001b[38;5;241m>\u001b[39m Any:\n\u001b[0;32m---> 62\u001b[0m     \u001b[38;5;28;01mreturn\u001b[39;00m \u001b[38;5;28;01mawait\u001b[39;00m \u001b[38;5;28mself\u001b[39m\u001b[38;5;241m.\u001b[39m_connection\u001b[38;5;241m.\u001b[39mwrap_api_call(\n\u001b[1;32m     63\u001b[0m         \u001b[38;5;28;01mlambda\u001b[39;00m: \u001b[38;5;28mself\u001b[39m\u001b[38;5;241m.\u001b[39minner_send(method, params, \u001b[38;5;28;01mFalse\u001b[39;00m)\n\u001b[1;32m     64\u001b[0m     )\n",
      "File \u001b[0;32m/usr/local/lib/python3.10/dist-packages/playwright/_impl/_connection.py:492\u001b[0m, in \u001b[0;36mConnection.wrap_api_call\u001b[0;34m(self, cb, is_internal)\u001b[0m\n\u001b[1;32m    490\u001b[0m \u001b[38;5;28mself\u001b[39m\u001b[38;5;241m.\u001b[39m_api_zone\u001b[38;5;241m.\u001b[39mset(_extract_stack_trace_information_from_stack(st, is_internal))\n\u001b[1;32m    491\u001b[0m \u001b[38;5;28;01mtry\u001b[39;00m:\n\u001b[0;32m--> 492\u001b[0m     \u001b[38;5;28;01mreturn\u001b[39;00m \u001b[38;5;28;01mawait\u001b[39;00m cb()\n\u001b[1;32m    493\u001b[0m \u001b[38;5;28;01mfinally\u001b[39;00m:\n\u001b[1;32m    494\u001b[0m     \u001b[38;5;28mself\u001b[39m\u001b[38;5;241m.\u001b[39m_api_zone\u001b[38;5;241m.\u001b[39mset(\u001b[38;5;28;01mNone\u001b[39;00m)\n",
      "File \u001b[0;32m/usr/local/lib/python3.10/dist-packages/playwright/_impl/_connection.py:100\u001b[0m, in \u001b[0;36mChannel.inner_send\u001b[0;34m(self, method, params, return_as_dict)\u001b[0m\n\u001b[1;32m     98\u001b[0m \u001b[38;5;28;01mif\u001b[39;00m \u001b[38;5;129;01mnot\u001b[39;00m callback\u001b[38;5;241m.\u001b[39mfuture\u001b[38;5;241m.\u001b[39mdone():\n\u001b[1;32m     99\u001b[0m     callback\u001b[38;5;241m.\u001b[39mfuture\u001b[38;5;241m.\u001b[39mcancel()\n\u001b[0;32m--> 100\u001b[0m result \u001b[38;5;241m=\u001b[39m \u001b[38;5;28;43mnext\u001b[39;49m\u001b[43m(\u001b[49m\u001b[38;5;28;43miter\u001b[39;49m\u001b[43m(\u001b[49m\u001b[43mdone\u001b[49m\u001b[43m)\u001b[49m\u001b[43m)\u001b[49m\u001b[38;5;241;43m.\u001b[39;49m\u001b[43mresult\u001b[49m\u001b[43m(\u001b[49m\u001b[43m)\u001b[49m\n\u001b[1;32m    101\u001b[0m \u001b[38;5;66;03m# Protocol now has named return values, assume result is one level deeper unless\u001b[39;00m\n\u001b[1;32m    102\u001b[0m \u001b[38;5;66;03m# there is explicit ambiguity.\u001b[39;00m\n\u001b[1;32m    103\u001b[0m \u001b[38;5;28;01mif\u001b[39;00m \u001b[38;5;129;01mnot\u001b[39;00m result:\n",
      "\u001b[0;31mError\u001b[0m: recordVideo.size.width: expected number, got undefined"
     ]
    }
   ],
   "source": [
    "# Example: YouTube Trending Screencast\n",
    "async def youtube_demo():\n",
    "    recorder = YouTubeScreencast()\n",
    "    try:\n",
    "        await recorder.setup_browser(headless=False, recording_name=\"youtube_demo\")\n",
    "        await recorder.visit_trending_section()\n",
    "    finally:\n",
    "        await recorder.cleanup()\n",
    "\n",
    "# Run the demo\n",
    "await youtube_demo()"
   ]
  },
  {
   "cell_type": "code",
   "execution_count": 27,
   "metadata": {},
   "outputs": [
    {
     "name": "stderr",
     "output_type": "stream",
     "text": [
      "2025-07-07 23:18:56,201 - src.screencast_recorder - INFO - Initialized ScreencastRecorder with output: output/screencasts\n",
      "2025-07-07 23:18:56,203 - src.screencast_recorder - INFO - Setting up browser...\n",
      "2025-07-07 23:18:56,547 - src.screencast_recorder - ERROR - Failed to setup browser: recordVideo.size.width: expected number, got undefined\n",
      "2025-07-07 23:18:56,548 - src.screencast_recorder - INFO - Cleaning up browser resources...\n",
      "2025-07-07 23:18:56,634 - src.screencast_recorder - INFO - Cleaning up browser resources...\n"
     ]
    },
    {
     "ename": "Error",
     "evalue": "recordVideo.size.width: expected number, got undefined",
     "output_type": "error",
     "traceback": [
      "\u001b[0;31m---------------------------------------------------------------------------\u001b[0m",
      "\u001b[0;31mError\u001b[0m                                     Traceback (most recent call last)",
      "Cell \u001b[0;32mIn[27], line 19\u001b[0m\n\u001b[1;32m     16\u001b[0m         \u001b[38;5;28;01mawait\u001b[39;00m recorder\u001b[38;5;241m.\u001b[39mcleanup()\n\u001b[1;32m     18\u001b[0m \u001b[38;5;66;03m# Run the demo\u001b[39;00m\n\u001b[0;32m---> 19\u001b[0m \u001b[38;5;28;01mawait\u001b[39;00m custom_demo()\n",
      "Cell \u001b[0;32mIn[27], line 13\u001b[0m, in \u001b[0;36mcustom_demo\u001b[0;34m()\u001b[0m\n\u001b[1;32m     11\u001b[0m recorder \u001b[38;5;241m=\u001b[39m WebsiteActionRecorder()\n\u001b[1;32m     12\u001b[0m \u001b[38;5;28;01mtry\u001b[39;00m:\n\u001b[0;32m---> 13\u001b[0m     \u001b[38;5;28;01mawait\u001b[39;00m recorder\u001b[38;5;241m.\u001b[39msetup_browser(headless\u001b[38;5;241m=\u001b[39m\u001b[38;5;28;01mFalse\u001b[39;00m, recording_name\u001b[38;5;241m=\u001b[39m\u001b[38;5;124m\"\u001b[39m\u001b[38;5;124mcustom_demo\u001b[39m\u001b[38;5;124m\"\u001b[39m)\n\u001b[1;32m     14\u001b[0m     \u001b[38;5;28;01mawait\u001b[39;00m recorder\u001b[38;5;241m.\u001b[39mrecord_custom_action(\u001b[38;5;124m'\u001b[39m\u001b[38;5;124mhttps://www.google.com\u001b[39m\u001b[38;5;124m'\u001b[39m, actions)\n\u001b[1;32m     15\u001b[0m \u001b[38;5;28;01mfinally\u001b[39;00m:\n",
      "File \u001b[0;32m/app/src/screencast_recorder.py:87\u001b[0m, in \u001b[0;36mScreencastRecorder.setup_browser\u001b[0;34m(self, headless, slow_mo, browser_type, recording_name)\u001b[0m\n\u001b[1;32m     84\u001b[0m \u001b[38;5;28mself\u001b[39m\u001b[38;5;241m.\u001b[39mrecording_path \u001b[38;5;241m=\u001b[39m \u001b[38;5;28mself\u001b[39m\u001b[38;5;241m.\u001b[39moutput_dir \u001b[38;5;241m/\u001b[39m \u001b[38;5;28mself\u001b[39m\u001b[38;5;241m.\u001b[39mrecording_name\n\u001b[1;32m     86\u001b[0m \u001b[38;5;66;03m# Create browser context with video recording\u001b[39;00m\n\u001b[0;32m---> 87\u001b[0m \u001b[38;5;28mself\u001b[39m\u001b[38;5;241m.\u001b[39mcontext \u001b[38;5;241m=\u001b[39m \u001b[38;5;28;01mawait\u001b[39;00m \u001b[38;5;28mself\u001b[39m\u001b[38;5;241m.\u001b[39mbrowser\u001b[38;5;241m.\u001b[39mnew_context(\n\u001b[1;32m     88\u001b[0m     viewport\u001b[38;5;241m=\u001b[39m{\u001b[38;5;124m'\u001b[39m\u001b[38;5;124mwidth\u001b[39m\u001b[38;5;124m'\u001b[39m: \u001b[38;5;28mself\u001b[39m\u001b[38;5;241m.\u001b[39mviewport_size[\u001b[38;5;241m0\u001b[39m], \u001b[38;5;124m'\u001b[39m\u001b[38;5;124mheight\u001b[39m\u001b[38;5;124m'\u001b[39m: \u001b[38;5;28mself\u001b[39m\u001b[38;5;241m.\u001b[39mviewport_size[\u001b[38;5;241m1\u001b[39m]},\n\u001b[1;32m     89\u001b[0m     record_video_dir\u001b[38;5;241m=\u001b[39m\u001b[38;5;28mstr\u001b[39m(\u001b[38;5;28mself\u001b[39m\u001b[38;5;241m.\u001b[39mrecording_path),\n\u001b[1;32m     90\u001b[0m     record_video_size\u001b[38;5;241m=\u001b[39m\u001b[38;5;28mself\u001b[39m\u001b[38;5;241m.\u001b[39mviewport_size,\n\u001b[1;32m     91\u001b[0m     user_agent\u001b[38;5;241m=\u001b[39m\u001b[38;5;124m'\u001b[39m\u001b[38;5;124mMozilla/5.0 (Windows NT 10.0; Win64; x64) AppleWebKit/537.36 (KHTML, like Gecko) Chrome/91.0.4472.124 Safari/537.36\u001b[39m\u001b[38;5;124m'\u001b[39m\n\u001b[1;32m     92\u001b[0m )\n\u001b[1;32m     94\u001b[0m \u001b[38;5;66;03m# Create page\u001b[39;00m\n\u001b[1;32m     95\u001b[0m \u001b[38;5;28mself\u001b[39m\u001b[38;5;241m.\u001b[39mpage \u001b[38;5;241m=\u001b[39m \u001b[38;5;28;01mawait\u001b[39;00m \u001b[38;5;28mself\u001b[39m\u001b[38;5;241m.\u001b[39mcontext\u001b[38;5;241m.\u001b[39mnew_page()\n",
      "File \u001b[0;32m/usr/local/lib/python3.10/dist-packages/playwright/async_api/_generated.py:14234\u001b[0m, in \u001b[0;36mBrowser.new_context\u001b[0;34m(self, viewport, screen, no_viewport, ignore_https_errors, java_script_enabled, bypass_csp, user_agent, locale, timezone_id, geolocation, permissions, extra_http_headers, offline, http_credentials, device_scale_factor, is_mobile, has_touch, color_scheme, reduced_motion, forced_colors, accept_downloads, default_browser_type, proxy, record_har_path, record_har_omit_content, record_video_dir, record_video_size, storage_state, base_url, strict_selectors, service_workers, record_har_url_filter, record_har_mode, record_har_content)\u001b[0m\n\u001b[1;32m  14029\u001b[0m \u001b[38;5;28;01masync\u001b[39;00m \u001b[38;5;28;01mdef\u001b[39;00m\u001b[38;5;250m \u001b[39m\u001b[38;5;21mnew_context\u001b[39m(\n\u001b[1;32m  14030\u001b[0m     \u001b[38;5;28mself\u001b[39m,\n\u001b[1;32m  14031\u001b[0m     \u001b[38;5;241m*\u001b[39m,\n\u001b[0;32m   (...)\u001b[0m\n\u001b[1;32m  14073\u001b[0m     record_har_content: typing\u001b[38;5;241m.\u001b[39mOptional[Literal[\u001b[38;5;124m\"\u001b[39m\u001b[38;5;124mattach\u001b[39m\u001b[38;5;124m\"\u001b[39m, \u001b[38;5;124m\"\u001b[39m\u001b[38;5;124membed\u001b[39m\u001b[38;5;124m\"\u001b[39m, \u001b[38;5;124m\"\u001b[39m\u001b[38;5;124momit\u001b[39m\u001b[38;5;124m\"\u001b[39m]] \u001b[38;5;241m=\u001b[39m \u001b[38;5;28;01mNone\u001b[39;00m\n\u001b[1;32m  14074\u001b[0m ) \u001b[38;5;241m-\u001b[39m\u001b[38;5;241m>\u001b[39m \u001b[38;5;124m\"\u001b[39m\u001b[38;5;124mBrowserContext\u001b[39m\u001b[38;5;124m\"\u001b[39m:\n\u001b[1;32m  14075\u001b[0m \u001b[38;5;250m    \u001b[39m\u001b[38;5;124;03m\"\"\"Browser.new_context\u001b[39;00m\n\u001b[1;32m  14076\u001b[0m \n\u001b[1;32m  14077\u001b[0m \u001b[38;5;124;03m    Creates a new browser context. It won't share cookies/cache with other browser contexts.\u001b[39;00m\n\u001b[0;32m   (...)\u001b[0m\n\u001b[1;32m  14230\u001b[0m \u001b[38;5;124;03m    BrowserContext\u001b[39;00m\n\u001b[1;32m  14231\u001b[0m \u001b[38;5;124;03m    \"\"\"\u001b[39;00m\n\u001b[1;32m  14233\u001b[0m     \u001b[38;5;28;01mreturn\u001b[39;00m mapping\u001b[38;5;241m.\u001b[39mfrom_impl(\n\u001b[0;32m> 14234\u001b[0m         \u001b[38;5;28;01mawait\u001b[39;00m \u001b[38;5;28mself\u001b[39m\u001b[38;5;241m.\u001b[39m_impl_obj\u001b[38;5;241m.\u001b[39mnew_context(\n\u001b[1;32m  14235\u001b[0m             viewport\u001b[38;5;241m=\u001b[39mviewport,\n\u001b[1;32m  14236\u001b[0m             screen\u001b[38;5;241m=\u001b[39mscreen,\n\u001b[1;32m  14237\u001b[0m             noViewport\u001b[38;5;241m=\u001b[39mno_viewport,\n\u001b[1;32m  14238\u001b[0m             ignoreHTTPSErrors\u001b[38;5;241m=\u001b[39mignore_https_errors,\n\u001b[1;32m  14239\u001b[0m             javaScriptEnabled\u001b[38;5;241m=\u001b[39mjava_script_enabled,\n\u001b[1;32m  14240\u001b[0m             bypassCSP\u001b[38;5;241m=\u001b[39mbypass_csp,\n\u001b[1;32m  14241\u001b[0m             userAgent\u001b[38;5;241m=\u001b[39muser_agent,\n\u001b[1;32m  14242\u001b[0m             locale\u001b[38;5;241m=\u001b[39mlocale,\n\u001b[1;32m  14243\u001b[0m             timezoneId\u001b[38;5;241m=\u001b[39mtimezone_id,\n\u001b[1;32m  14244\u001b[0m             geolocation\u001b[38;5;241m=\u001b[39mgeolocation,\n\u001b[1;32m  14245\u001b[0m             permissions\u001b[38;5;241m=\u001b[39mmapping\u001b[38;5;241m.\u001b[39mto_impl(permissions),\n\u001b[1;32m  14246\u001b[0m             extraHTTPHeaders\u001b[38;5;241m=\u001b[39mmapping\u001b[38;5;241m.\u001b[39mto_impl(extra_http_headers),\n\u001b[1;32m  14247\u001b[0m             offline\u001b[38;5;241m=\u001b[39moffline,\n\u001b[1;32m  14248\u001b[0m             httpCredentials\u001b[38;5;241m=\u001b[39mhttp_credentials,\n\u001b[1;32m  14249\u001b[0m             deviceScaleFactor\u001b[38;5;241m=\u001b[39mdevice_scale_factor,\n\u001b[1;32m  14250\u001b[0m             isMobile\u001b[38;5;241m=\u001b[39mis_mobile,\n\u001b[1;32m  14251\u001b[0m             hasTouch\u001b[38;5;241m=\u001b[39mhas_touch,\n\u001b[1;32m  14252\u001b[0m             colorScheme\u001b[38;5;241m=\u001b[39mcolor_scheme,\n\u001b[1;32m  14253\u001b[0m             reducedMotion\u001b[38;5;241m=\u001b[39mreduced_motion,\n\u001b[1;32m  14254\u001b[0m             forcedColors\u001b[38;5;241m=\u001b[39mforced_colors,\n\u001b[1;32m  14255\u001b[0m             acceptDownloads\u001b[38;5;241m=\u001b[39maccept_downloads,\n\u001b[1;32m  14256\u001b[0m             defaultBrowserType\u001b[38;5;241m=\u001b[39mdefault_browser_type,\n\u001b[1;32m  14257\u001b[0m             proxy\u001b[38;5;241m=\u001b[39mproxy,\n\u001b[1;32m  14258\u001b[0m             recordHarPath\u001b[38;5;241m=\u001b[39mrecord_har_path,\n\u001b[1;32m  14259\u001b[0m             recordHarOmitContent\u001b[38;5;241m=\u001b[39mrecord_har_omit_content,\n\u001b[1;32m  14260\u001b[0m             recordVideoDir\u001b[38;5;241m=\u001b[39mrecord_video_dir,\n\u001b[1;32m  14261\u001b[0m             recordVideoSize\u001b[38;5;241m=\u001b[39mrecord_video_size,\n\u001b[1;32m  14262\u001b[0m             storageState\u001b[38;5;241m=\u001b[39mstorage_state,\n\u001b[1;32m  14263\u001b[0m             baseURL\u001b[38;5;241m=\u001b[39mbase_url,\n\u001b[1;32m  14264\u001b[0m             strictSelectors\u001b[38;5;241m=\u001b[39mstrict_selectors,\n\u001b[1;32m  14265\u001b[0m             serviceWorkers\u001b[38;5;241m=\u001b[39mservice_workers,\n\u001b[1;32m  14266\u001b[0m             recordHarUrlFilter\u001b[38;5;241m=\u001b[39mrecord_har_url_filter,\n\u001b[1;32m  14267\u001b[0m             recordHarMode\u001b[38;5;241m=\u001b[39mrecord_har_mode,\n\u001b[1;32m  14268\u001b[0m             recordHarContent\u001b[38;5;241m=\u001b[39mrecord_har_content,\n\u001b[1;32m  14269\u001b[0m         )\n\u001b[1;32m  14270\u001b[0m     )\n",
      "File \u001b[0;32m/usr/local/lib/python3.10/dist-packages/playwright/_impl/_browser.py:127\u001b[0m, in \u001b[0;36mBrowser.new_context\u001b[0;34m(self, viewport, screen, noViewport, ignoreHTTPSErrors, javaScriptEnabled, bypassCSP, userAgent, locale, timezoneId, geolocation, permissions, extraHTTPHeaders, offline, httpCredentials, deviceScaleFactor, isMobile, hasTouch, colorScheme, reducedMotion, forcedColors, acceptDownloads, defaultBrowserType, proxy, recordHarPath, recordHarOmitContent, recordVideoDir, recordVideoSize, storageState, baseURL, strictSelectors, serviceWorkers, recordHarUrlFilter, recordHarMode, recordHarContent)\u001b[0m\n\u001b[1;32m    124\u001b[0m params \u001b[38;5;241m=\u001b[39m locals_to_params(\u001b[38;5;28mlocals\u001b[39m())\n\u001b[1;32m    125\u001b[0m \u001b[38;5;28;01mawait\u001b[39;00m prepare_browser_context_params(params)\n\u001b[0;32m--> 127\u001b[0m channel \u001b[38;5;241m=\u001b[39m \u001b[38;5;28;01mawait\u001b[39;00m \u001b[38;5;28mself\u001b[39m\u001b[38;5;241m.\u001b[39m_channel\u001b[38;5;241m.\u001b[39msend(\u001b[38;5;124m\"\u001b[39m\u001b[38;5;124mnewContext\u001b[39m\u001b[38;5;124m\"\u001b[39m, params)\n\u001b[1;32m    128\u001b[0m context \u001b[38;5;241m=\u001b[39m cast(BrowserContext, from_channel(channel))\n\u001b[1;32m    129\u001b[0m \u001b[38;5;28mself\u001b[39m\u001b[38;5;241m.\u001b[39m_browser_type\u001b[38;5;241m.\u001b[39m_did_create_context(context, params, {})\n",
      "File \u001b[0;32m/usr/local/lib/python3.10/dist-packages/playwright/_impl/_connection.py:62\u001b[0m, in \u001b[0;36mChannel.send\u001b[0;34m(self, method, params)\u001b[0m\n\u001b[1;32m     61\u001b[0m \u001b[38;5;28;01masync\u001b[39;00m \u001b[38;5;28;01mdef\u001b[39;00m\u001b[38;5;250m \u001b[39m\u001b[38;5;21msend\u001b[39m(\u001b[38;5;28mself\u001b[39m, method: \u001b[38;5;28mstr\u001b[39m, params: Dict \u001b[38;5;241m=\u001b[39m \u001b[38;5;28;01mNone\u001b[39;00m) \u001b[38;5;241m-\u001b[39m\u001b[38;5;241m>\u001b[39m Any:\n\u001b[0;32m---> 62\u001b[0m     \u001b[38;5;28;01mreturn\u001b[39;00m \u001b[38;5;28;01mawait\u001b[39;00m \u001b[38;5;28mself\u001b[39m\u001b[38;5;241m.\u001b[39m_connection\u001b[38;5;241m.\u001b[39mwrap_api_call(\n\u001b[1;32m     63\u001b[0m         \u001b[38;5;28;01mlambda\u001b[39;00m: \u001b[38;5;28mself\u001b[39m\u001b[38;5;241m.\u001b[39minner_send(method, params, \u001b[38;5;28;01mFalse\u001b[39;00m)\n\u001b[1;32m     64\u001b[0m     )\n",
      "File \u001b[0;32m/usr/local/lib/python3.10/dist-packages/playwright/_impl/_connection.py:492\u001b[0m, in \u001b[0;36mConnection.wrap_api_call\u001b[0;34m(self, cb, is_internal)\u001b[0m\n\u001b[1;32m    490\u001b[0m \u001b[38;5;28mself\u001b[39m\u001b[38;5;241m.\u001b[39m_api_zone\u001b[38;5;241m.\u001b[39mset(_extract_stack_trace_information_from_stack(st, is_internal))\n\u001b[1;32m    491\u001b[0m \u001b[38;5;28;01mtry\u001b[39;00m:\n\u001b[0;32m--> 492\u001b[0m     \u001b[38;5;28;01mreturn\u001b[39;00m \u001b[38;5;28;01mawait\u001b[39;00m cb()\n\u001b[1;32m    493\u001b[0m \u001b[38;5;28;01mfinally\u001b[39;00m:\n\u001b[1;32m    494\u001b[0m     \u001b[38;5;28mself\u001b[39m\u001b[38;5;241m.\u001b[39m_api_zone\u001b[38;5;241m.\u001b[39mset(\u001b[38;5;28;01mNone\u001b[39;00m)\n",
      "File \u001b[0;32m/usr/local/lib/python3.10/dist-packages/playwright/_impl/_connection.py:100\u001b[0m, in \u001b[0;36mChannel.inner_send\u001b[0;34m(self, method, params, return_as_dict)\u001b[0m\n\u001b[1;32m     98\u001b[0m \u001b[38;5;28;01mif\u001b[39;00m \u001b[38;5;129;01mnot\u001b[39;00m callback\u001b[38;5;241m.\u001b[39mfuture\u001b[38;5;241m.\u001b[39mdone():\n\u001b[1;32m     99\u001b[0m     callback\u001b[38;5;241m.\u001b[39mfuture\u001b[38;5;241m.\u001b[39mcancel()\n\u001b[0;32m--> 100\u001b[0m result \u001b[38;5;241m=\u001b[39m \u001b[38;5;28;43mnext\u001b[39;49m\u001b[43m(\u001b[49m\u001b[38;5;28;43miter\u001b[39;49m\u001b[43m(\u001b[49m\u001b[43mdone\u001b[49m\u001b[43m)\u001b[49m\u001b[43m)\u001b[49m\u001b[38;5;241;43m.\u001b[39;49m\u001b[43mresult\u001b[49m\u001b[43m(\u001b[49m\u001b[43m)\u001b[49m\n\u001b[1;32m    101\u001b[0m \u001b[38;5;66;03m# Protocol now has named return values, assume result is one level deeper unless\u001b[39;00m\n\u001b[1;32m    102\u001b[0m \u001b[38;5;66;03m# there is explicit ambiguity.\u001b[39;00m\n\u001b[1;32m    103\u001b[0m \u001b[38;5;28;01mif\u001b[39;00m \u001b[38;5;129;01mnot\u001b[39;00m result:\n",
      "\u001b[0;31mError\u001b[0m: recordVideo.size.width: expected number, got undefined"
     ]
    }
   ],
   "source": [
    "# Example: Custom Website Actions\n",
    "actions = [\n",
    "    {'action': 'wait', 'duration': 2000},\n",
    "    {'action': 'click', 'selector': 'input[name=\"q\"]'},\n",
    "    {'action': 'type', 'selector': 'input[name=\"q\"]', 'text': 'playwright automation'},\n",
    "    {'action': 'wait', 'duration': 1000},\n",
    "    {'action': 'scroll', 'pixels': 300}\n",
    "]\n",
    "\n",
    "async def custom_demo():\n",
    "    recorder = WebsiteActionRecorder()\n",
    "    try:\n",
    "        await recorder.setup_browser(headless=False, recording_name=\"custom_demo\")\n",
    "        await recorder.record_custom_action('https://www.google.com', actions)\n",
    "    finally:\n",
    "        await recorder.cleanup()\n",
    "\n",
    "# Run the demo\n",
    "await custom_demo()"
   ]
  },
  {
   "cell_type": "code",
   "execution_count": null,
   "metadata": {},
   "outputs": [],
   "source": []
  }
 ],
 "metadata": {
  "kernelspec": {
   "display_name": "Python 3 (ipykernel)",
   "language": "python",
   "name": "python3"
  },
  "language_info": {
   "codemirror_mode": {
    "name": "ipython",
    "version": 3
   },
   "file_extension": ".py",
   "mimetype": "text/x-python",
   "name": "python",
   "nbconvert_exporter": "python",
   "pygments_lexer": "ipython3",
   "version": "3.10.12"
  }
 },
 "nbformat": 4,
 "nbformat_minor": 4
}
