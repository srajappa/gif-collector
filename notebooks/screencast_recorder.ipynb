{
 "cells": [
  {
   "cell_type": "markdown",
   "metadata": {},
   "source": [
    "# Playwright Screencast Recorder\n",
    "\n",
    "This notebook demonstrates how to create automated screencasts using Playwright."
   ]
  },
  {
   "cell_type": "code",
   "execution_count": null,
   "metadata": {},
   "outputs": [],
   "source": [
    "# Import the screencast recorder\n",
    "import sys\n",
    "sys.path.append('/app')\n",
    "\n",
    "from src.screencast_recorder import (\n",
    "    ScreencastRecorder,\n",
    "    YouTubeScreencast,\n",
    "    WebsiteActionRecorder,\n",
    "    EcommerceScreencast\n",
    ")"
   ]
  },
  {
   "cell_type": "code",
   "execution_count": null,
   "metadata": {},
   "outputs": [],
   "source": [
    "# Example: YouTube Trending Screencast\n",
    "async def youtube_demo():\n",
    "    recorder = YouTubeScreencast()\n",
    "    try:\n",
    "        await recorder.setup_browser(headless=False, recording_name=\"youtube_demo\")\n",
    "        await recorder.visit_trending_section()\n",
    "    finally:\n",
    "        await recorder.cleanup()\n",
    "\n",
    "# Run the demo\n",
    "await youtube_demo()"
   ]
  },
  {
   "cell_type": "code",
   "execution_count": null,
   "metadata": {},
   "outputs": [],
   "source": [
    "# Example: Custom Website Actions\n",
    "actions = [\n",
    "    {'action': 'wait', 'duration': 2000},\n",
    "    {'action': 'click', 'selector': 'input[name=\"q\"]'},\n",
    "    {'action': 'type', 'selector': 'input[name=\"q\"]', 'text': 'playwright automation'},\n",
    "    {'action': 'wait', 'duration': 1000},\n",
    "    {'action': 'scroll', 'pixels': 300}\n",
    "]\n",
    "\n",
    "async def custom_demo():\n",
    "    recorder = WebsiteActionRecorder()\n",
    "    try:\n",
    "        await recorder.setup_browser(headless=False, recording_name=\"custom_demo\")\n",
    "        await recorder.record_custom_action('https://www.google.com', actions)\n",
    "    finally:\n",
    "        await recorder.cleanup()\n",
    "\n",
    "# Run the demo\n",
    "await custom_demo()"
   ]
  }
 ],
 "metadata": {
  "kernelspec": {
   "display_name": "Python 3",
   "language": "python",
   "name": "python3"
  },
  "language_info": {
   "codemirror_mode": {
    "name": "ipython",
    "version": 3
   },
   "file_extension": ".py",
   "mimetype": "text/x-python",
   "name": "python",
   "nbconvert_exporter": "python",
   "pygments_lexer": "ipython3",
   "version": "3.9.0"
  }
 },
 "nbformat": 4,
 "nbformat_minor": 4
}
