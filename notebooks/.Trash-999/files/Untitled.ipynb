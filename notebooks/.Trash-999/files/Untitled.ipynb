{
 "cells": [
  {
   "cell_type": "code",
   "execution_count": 1,
   "id": "2fc8fa4f-41a8-4852-9509-6323985740c6",
   "metadata": {},
   "outputs": [
    {
     "name": "stdout",
     "output_type": "stream",
     "text": [
      "Playing video: output/screencasts/video_test/49d01eb8de19ac093449328c27b22de6.webm\n"
     ]
    }
   ],
   "source": [
    "from IPython.display import Video\n",
    "import glob\n",
    "\n",
    "# Find the video file\n",
    "video_files = glob.glob(\"output/screencasts/video_test/*.webm\")\n",
    "if video_files:\n",
    "    video_path = video_files[0]\n",
    "    print(f\"Playing video: {video_path}\")\n",
    "    \n",
    "    # Display video in Jupyter\n",
    "    Video(video_path, width=800, height=600)\n",
    "else:\n",
    "    print(\"No video files found\")"
   ]
  },
  {
   "cell_type": "code",
   "execution_count": 4,
   "id": "96dd50f7-0acf-47fd-bc61-9f8935aea1f1",
   "metadata": {},
   "outputs": [],
   "source": [
    "from IPython.display import HTML\n",
    "import glob\n",
    "import os\n",
    "\n",
    "# Find the video file\n",
    "video_files = glob.glob(\"output/screencasts/video_test/*.webm\")\n",
    "if video_files:\n",
    "    video_path = video_files[0]\n",
    "    \n",
    "    # Create relative path for HTML\n",
    "    rel_path = os.path.relpath(video_path, '/app/notebooks')\n",
    "    \n",
    "    html_code = f\"\"\"\n",
    "    <video width=\"800\" height=\"600\" controls>\n",
    "        <source src=\"{rel_path}\" type=\"video/webm\">\n",
    "        Your browser does not support the video tag.\n",
    "    </video>\n",
    "    <p>Video file: {video_path}</p>\n",
    "    <p>File size: {os.path.getsize(video_path)} bytes</p>\n",
    "    \"\"\"\n",
    "    \n",
    "    HTML(html_code)\n",
    "else:\n",
    "    print(\"No video files found\")"
   ]
  },
  {
   "cell_type": "code",
   "execution_count": 5,
   "id": "3d7a0b57-a209-4997-b9a3-480cde556886",
   "metadata": {},
   "outputs": [
    {
     "name": "stdout",
     "output_type": "stream",
     "text": [
      "✅ Video copied to: screencast_recording.webm\n",
      "You can now download this file from the Jupyter file browser\n"
     ]
    }
   ],
   "source": [
    "import shutil\n",
    "import glob\n",
    "\n",
    "# Copy video to a downloadable location\n",
    "video_files = glob.glob(\"output/screencasts/video_test/*.webm\")\n",
    "if video_files:\n",
    "    source = video_files[0]\n",
    "    destination = \"screencast_recording.webm\"\n",
    "    \n",
    "    shutil.copy2(source, destination)\n",
    "    print(f\"✅ Video copied to: {destination}\")\n",
    "    print(\"You can now download this file from the Jupyter file browser\")\n",
    "else:\n",
    "    print(\"No video files found\")"
   ]
  },
  {
   "cell_type": "code",
   "execution_count": null,
   "id": "ef20e72c-9614-4b9d-bd4e-233cd0d4b0d5",
   "metadata": {},
   "outputs": [],
   "source": []
  }
 ],
 "metadata": {
  "kernelspec": {
   "display_name": "Python 3 (ipykernel)",
   "language": "python",
   "name": "python3"
  },
  "language_info": {
   "codemirror_mode": {
    "name": "ipython",
    "version": 3
   },
   "file_extension": ".py",
   "mimetype": "text/x-python",
   "name": "python",
   "nbconvert_exporter": "python",
   "pygments_lexer": "ipython3",
   "version": "3.10.12"
  }
 },
 "nbformat": 4,
 "nbformat_minor": 5
}
